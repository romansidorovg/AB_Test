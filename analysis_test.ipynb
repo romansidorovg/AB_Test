"fssdfdd"

{
 "cells": [
  {
   "cell_type": "code",
   "execution_count": 56,
   "id": "85fbc698",
   "metadata": {},
   "outputs": [],
   "source": [
    "import pandas as pd\n",
    "import numpy as np\n",
    "import matplotlib.pyplot as plt\n",
    "import seaborn as sns\n",
    "%matplotlib inline"
   ]
  },
  {
   "cell_type": "code",
   "execution_count": 57,
   "id": "dff6a7ea",
   "metadata": {},
   "outputs": [],
   "source": [
    "def get_first_value(x):\n",
    "    if ',' in x:\n",
    "        return x.split(',')[0]\n",
    "    else:\n",
    "        return x"
   ]
  },
  {
   "cell_type": "code",
   "execution_count": 58,
   "id": "0cdac8b8",
   "metadata": {},
   "outputs": [],
   "source": [
    "NETFLIX_PATH = r'F:\\Roman\\Программирование (C#, html, sql)\\Pandas DataFrame\\netflix_titles.csv'\n",
    "netflix = pd.read_csv(NETFLIX_PATH, parse_dates = ['date_added'])"
   ]
  },
  {
   "cell_type": "code",
   "execution_count": 59,
   "id": "4bb2b3e5",
   "metadata": {},
   "outputs": [],
   "source": [
    "netflix_first_shape = netflix.shape[0]"
   ]
  },
  {
   "cell_type": "code",
   "execution_count": 60,
   "id": "793ff780",
   "metadata": {},
   "outputs": [],
   "source": [
    "netflix.dropna(inplace=True)\n",
    "netflix_second_shape = netflix.shape[0]\n",
    "netflix_difference_shape = (((netflix_first_shape-netflix_second_shape)/netflix_first_shape).__round__(4)*100)"
   ]
  },
  {
   "cell_type": "code",
   "execution_count": 61,
   "id": "527ff73d",
   "metadata": {},
   "outputs": [],
   "source": [
    "netflix['show_id'] = netflix['show_id'].apply(lambda x: x.split('s')[1])\n",
    "netflix['director'] = netflix['director'].apply(get_first_value)\n",
    "netflix['country'] = netflix['country'].apply(get_first_value)\n",
    "netflix['listed_in'] = netflix['listed_in'].apply(get_first_value)"
   ]
  },
  {
   "cell_type": "code",
   "execution_count": 85,
   "id": "6f941143",
   "metadata": {},
   "outputs": [],
   "source": [
    "netflix = netflix.drop(netflix.query(\"country==''\").index)"
   ]
  },
  {
   "cell_type": "code",
   "execution_count": 77,
   "id": "858ca1a6",
   "metadata": {},
   "outputs": [
    {
     "name": "stdout",
     "output_type": "stream",
     "text": [
      "     show_id     type                          title             director  \\\n",
      "7          8    Movie                        Sankofa         Haile Gerima   \n",
      "8          9  TV Show  The Great British Baking Show      Andy Devonshire   \n",
      "9         10    Movie                   The Starling       Theodore Melfi   \n",
      "12        13    Movie                   Je Suis Karl  Christian Schwochow   \n",
      "24        25    Movie                          Jeans           S. Shankar   \n",
      "...      ...      ...                            ...                  ...   \n",
      "8801    8802    Movie                        Zinzana      Majid Al Ansari   \n",
      "8802    8803    Movie                         Zodiac        David Fincher   \n",
      "8804    8805    Movie                     Zombieland      Ruben Fleischer   \n",
      "8805    8806    Movie                           Zoom         Peter Hewitt   \n",
      "8806    8807    Movie                         Zubaan          Mozez Singh   \n",
      "\n",
      "                                                   cast               country  \\\n",
      "7     Kofi Ghanaba, Oyafunmike Ogunlano, Alexandra D...         United States   \n",
      "8     Mel Giedroyc, Sue Perkins, Mary Berry, Paul Ho...        United Kingdom   \n",
      "9     Melissa McCarthy, Chris O'Dowd, Kevin Kline, T...         United States   \n",
      "12    Luna Wedler, Jannis Niewöhner, Milan Peschel, ...               Germany   \n",
      "24    Prashanth, Aishwarya Rai Bachchan, Sri Lakshmi...                 India   \n",
      "...                                                 ...                   ...   \n",
      "8801  Ali Suliman, Saleh Bakri, Yasa, Ali Al-Jabri, ...  United Arab Emirates   \n",
      "8802  Mark Ruffalo, Jake Gyllenhaal, Robert Downey J...         United States   \n",
      "8804  Jesse Eisenberg, Woody Harrelson, Emma Stone, ...         United States   \n",
      "8805  Tim Allen, Courteney Cox, Chevy Chase, Kate Ma...         United States   \n",
      "8806  Vicky Kaushal, Sarah-Jane Dias, Raaghav Chanan...                 India   \n",
      "\n",
      "     date_added  release_year rating   duration                 listed_in  \\\n",
      "7    2021-09-24          1993  TV-MA    125 min                    Dramas   \n",
      "8    2021-09-24          2021  TV-14  9 Seasons          British TV Shows   \n",
      "9    2021-09-24          2021  PG-13    104 min                  Comedies   \n",
      "12   2021-09-23          2021  TV-MA    127 min                    Dramas   \n",
      "24   2021-09-21          1998  TV-14    166 min                  Comedies   \n",
      "...         ...           ...    ...        ...                       ...   \n",
      "8801 2016-03-09          2015  TV-MA     96 min                    Dramas   \n",
      "8802 2019-11-20          2007      R    158 min               Cult Movies   \n",
      "8804 2019-11-01          2009      R     88 min                  Comedies   \n",
      "8805 2020-01-11          2006     PG     88 min  Children & Family Movies   \n",
      "8806 2019-03-02          2015  TV-14    111 min                    Dramas   \n",
      "\n",
      "                                            description  \n",
      "7     On a photo shoot in Ghana, an American model s...  \n",
      "8     A talented batch of amateur bakers face off in...  \n",
      "9     A woman adjusting to life after a loss contend...  \n",
      "12    After most of her family is murdered in a terr...  \n",
      "24    When the father of the man she loves insists t...  \n",
      "...                                                 ...  \n",
      "8801  Recovering alcoholic Talal wakes up inside a s...  \n",
      "8802  A political cartoonist, a crime reporter and a...  \n",
      "8804  Looking to survive in a world taken over by zo...  \n",
      "8805  Dragged from civilian life, a former superhero...  \n",
      "8806  A scrappy but poor boy worms his way into a ty...  \n",
      "\n",
      "[5332 rows x 12 columns]\n"
     ]
    }
   ],
   "source": [
    "print(netflix)"
   ]
  },
  {
   "cell_type": "code",
   "execution_count": 87,
   "id": "0dc9cc7c",
   "metadata": {},
   "outputs": [],
   "source": [
    "netflix_country_count = (netflix.groupby(['country'], as_index=False)\n",
    "                        .agg({'show_id' : 'count'})\n",
    "                        .rename(columns={'show_id' : 'count_movies'}))"
   ]
  },
  {
   "cell_type": "code",
   "execution_count": 109,
   "id": "5df8957f",
   "metadata": {},
   "outputs": [],
   "source": [
    "netflix_favorite_country_rating = (netflix.groupby(['country', 'rating'], as_index=False)\n",
    "                                  .agg({'show_id' : 'count'})\n",
    "                                   .rename(columns={'show_id' : 'genre_movies'})\n",
    "                                  .sort_values('genre_movies', ascending=False)\n",
    "                                  .groupby(['country'])\n",
    "                                  .head(1)\n",
    "                                  .sort_values('country'))"
   ]
  },
  {
   "cell_type": "code",
   "execution_count": 110,
   "id": "3c008e2b",
   "metadata": {},
   "outputs": [
    {
     "name": "stdout",
     "output_type": "stream",
     "text": [
      "           country rating  genre_movies\n",
      "4        Argentina  TV-MA            40\n",
      "12       Australia  TV-MA            15\n",
      "17         Austria  TV-MA             4\n",
      "19      Bangladesh  TV-14             1\n",
      "23         Belgium  TV-MA             6\n",
      "..             ...    ...           ...\n",
      "309  United States  TV-MA           558\n",
      "316        Uruguay  TV-MA             5\n",
      "318      Venezuela  TV-14             1\n",
      "321        Vietnam  TV-MA             3\n",
      "322       Zimbabwe   TV-G             1\n",
      "\n",
      "[76 rows x 3 columns]\n"
     ]
    }
   ],
   "source": [
    "print(netflix_favorite_country_rating)"
   ]
  }
 ],
 "metadata": {
  "kernelspec": {
   "display_name": "Python 3 (ipykernel)",
   "language": "python",
   "name": "python3"
  },
  "language_info": {
   "codemirror_mode": {
    "name": "ipython",
    "version": 3
   },
   "file_extension": ".py",
   "mimetype": "text/x-python",
   "name": "python",
   "nbconvert_exporter": "python",
   "pygments_lexer": "ipython3",
   "version": "3.10.9"
  }
 },
 "nbformat": 4,
 "nbformat_minor": 5
}
